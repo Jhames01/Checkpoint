{
  "nbformat": 4,
  "nbformat_minor": 0,
  "metadata": {
    "colab": {
      "provenance": [],
      "authorship_tag": "ABX9TyPFLkyUUz5jte/jQpPbTLVV",
      "include_colab_link": true
    },
    "kernelspec": {
      "name": "python3",
      "display_name": "Python 3"
    },
    "language_info": {
      "name": "python"
    }
  },
  "cells": [
    {
      "cell_type": "markdown",
      "metadata": {
        "id": "view-in-github",
        "colab_type": "text"
      },
      "source": [
        "<a href=\"https://colab.research.google.com/github/Jhames01/Checkpoint/blob/master/Supervised_Learning_Regression_Checkpoint.ipynb\" target=\"_parent\"><img src=\"https://colab.research.google.com/assets/colab-badge.svg\" alt=\"Open In Colab\"/></a>"
      ]
    },
    {
      "cell_type": "code",
      "execution_count": 14,
      "metadata": {
        "colab": {
          "base_uri": "https://localhost:8080/"
        },
        "id": "zsXHvhdXIKv8",
        "outputId": "dbedc20a-2df8-4032-e516-32a44c0c6754"
      },
      "outputs": [
        {
          "output_type": "stream",
          "name": "stdout",
          "text": [
            "              Time   BS     Energy      load  ESMODE   TXpower\n",
            "0  20230101 010000  B_0  64.275037  0.487936     0.0  7.101719\n",
            "1  20230101 020000  B_0  55.904335  0.344468     0.0  7.101719\n",
            "2  20230101 030000  B_0  57.698057  0.193766     0.0  7.101719\n",
            "3  20230101 040000  B_0  55.156951  0.222383     0.0  7.101719\n",
            "4  20230101 050000  B_0  56.053812  0.175436     0.0  7.101719\n",
            "<class 'pandas.core.frame.DataFrame'>\n",
            "RangeIndex: 92629 entries, 0 to 92628\n",
            "Data columns (total 6 columns):\n",
            " #   Column   Non-Null Count  Dtype  \n",
            "---  ------   --------------  -----  \n",
            " 0   Time     92629 non-null  object \n",
            " 1   BS       92629 non-null  object \n",
            " 2   Energy   92629 non-null  float64\n",
            " 3   load     92629 non-null  float64\n",
            " 4   ESMODE   92629 non-null  float64\n",
            " 5   TXpower  92629 non-null  float64\n",
            "dtypes: float64(4), object(2)\n",
            "memory usage: 4.2+ MB\n",
            "None\n"
          ]
        }
      ],
      "source": [
        "import pandas as pd\n",
        "\n",
        "# Load the dataset\n",
        "file_path = '/content/5G_energy_consumption_dataset.csv'  # Update with your file path if needed\n",
        "data = pd.read_csv(file_path)\n",
        "\n",
        "# Display the first few rows of the dataset\n",
        "print(data.head())\n",
        "\n",
        "# Display general information about the dataset\n",
        "print(data.info())\n"
      ]
    },
    {
      "cell_type": "code",
      "source": [
        "# Check for missing values\n",
        "print(data.isnull().sum())\n",
        "\n",
        "# Check the percentage of missing values\n",
        "print((data.isnull().sum() / len(data)) * 100)\n"
      ],
      "metadata": {
        "colab": {
          "base_uri": "https://localhost:8080/"
        },
        "id": "UjZN566gJDH2",
        "outputId": "d3351286-f47d-472d-aca0-3bdc43278a28"
      },
      "execution_count": 15,
      "outputs": [
        {
          "output_type": "stream",
          "name": "stdout",
          "text": [
            "Time       0\n",
            "BS         0\n",
            "Energy     0\n",
            "load       0\n",
            "ESMODE     0\n",
            "TXpower    0\n",
            "dtype: int64\n",
            "Time       0.0\n",
            "BS         0.0\n",
            "Energy     0.0\n",
            "load       0.0\n",
            "ESMODE     0.0\n",
            "TXpower    0.0\n",
            "dtype: float64\n"
          ]
        }
      ]
    },
    {
      "cell_type": "code",
      "source": [
        "# Check for duplicate rows\n",
        "duplicate_rows = data.duplicated()\n",
        "\n",
        "# Count the number of duplicate rows\n",
        "num_duplicates = duplicate_rows.sum()\n",
        "print(f\"Number of duplicate rows: {num_duplicates}\")\n"
      ],
      "metadata": {
        "id": "vYuQbOf7K57m",
        "outputId": "6c5eb181-8c31-45b1-eb24-195ea692134d",
        "colab": {
          "base_uri": "https://localhost:8080/"
        }
      },
      "execution_count": 16,
      "outputs": [
        {
          "output_type": "stream",
          "name": "stdout",
          "text": [
            "Number of duplicate rows: 0\n"
          ]
        }
      ]
    },
    {
      "cell_type": "code",
      "source": [
        "# Select target variable (replace 'TargetColumn' with the actual column name)\n",
        "target = 'TXpower'\n"
      ],
      "metadata": {
        "id": "dU-SzDHxo72Z"
      },
      "execution_count": 18,
      "outputs": []
    },
    {
      "cell_type": "code",
      "source": [
        "import pandas as pd\n",
        "\n",
        "# Load the dataset\n",
        "file_path = '/content/5G_energy_consumption_dataset.csv'  # Update with your file path if needed\n",
        "data = pd.read_csv(file_path)\n",
        "\n",
        "# Convert 'Time' column to datetime objects\n",
        "data['Time'] = pd.to_datetime(data['Time'])\n",
        "\n",
        "# Extract numerical features for correlation analysis\n",
        "# Assuming all columns except 'Time' and 'BS' (if it's non-numerical) are numerical\n",
        "numerical_features = data.select_dtypes(include=['number'])\n",
        "\n",
        "# Check correlation between features and the target\n",
        "correlation_matrix = numerical_features.corr()\n",
        "print(correlation_matrix['TXpower'].sort_values(ascending=False))\n"
      ],
      "metadata": {
        "colab": {
          "base_uri": "https://localhost:8080/"
        },
        "id": "p3H0SvSPpVJb",
        "outputId": "dd7c7bd3-b98e-4038-9572-b6e44a001dfd"
      },
      "execution_count": 20,
      "outputs": [
        {
          "output_type": "stream",
          "name": "stdout",
          "text": [
            "TXpower    1.000000\n",
            "Energy     0.450760\n",
            "load       0.200221\n",
            "ESMODE     0.060017\n",
            "Name: TXpower, dtype: float64\n"
          ]
        }
      ]
    },
    {
      "cell_type": "code",
      "source": [
        "# Select features (replace 'Feature1', 'Feature2', etc. with actual column names)\n",
        "features = ['Energy', 'Load', 'ESMODE', 'TXpower']\n"
      ],
      "metadata": {
        "id": "8_EfNbLUqhH5"
      },
      "execution_count": 24,
      "outputs": []
    },
    {
      "cell_type": "code",
      "source": [
        "# Prepare the feature matrix (X) and target vector (y)\n",
        "X = data['ESMODE']\n",
        "y = data['TXpower']"
      ],
      "metadata": {
        "id": "a8ub7IgPsQKT"
      },
      "execution_count": 27,
      "outputs": []
    },
    {
      "cell_type": "code",
      "source": [
        "print(f\"ESMODE shape: {X.shape}\")\n",
        "print(f\"TXpower shape: {y.shape}\")\n"
      ],
      "metadata": {
        "colab": {
          "base_uri": "https://localhost:8080/"
        },
        "id": "Pv6NbbMds030",
        "outputId": "5b33799d-dca3-4b85-9765-c350eeee4975"
      },
      "execution_count": 28,
      "outputs": [
        {
          "output_type": "stream",
          "name": "stdout",
          "text": [
            "ESMODE shape: (92629,)\n",
            "TXpower shape: (92629,)\n"
          ]
        }
      ]
    },
    {
      "cell_type": "code",
      "source": [
        "pip install scikit-learn\n"
      ],
      "metadata": {
        "colab": {
          "base_uri": "https://localhost:8080/"
        },
        "id": "qTqPEStwtEnl",
        "outputId": "b150b9b8-b7c8-45cd-cc94-4eb36717d9a7"
      },
      "execution_count": 29,
      "outputs": [
        {
          "output_type": "stream",
          "name": "stdout",
          "text": [
            "Requirement already satisfied: scikit-learn in /usr/local/lib/python3.10/dist-packages (1.5.2)\n",
            "Requirement already satisfied: numpy>=1.19.5 in /usr/local/lib/python3.10/dist-packages (from scikit-learn) (1.26.4)\n",
            "Requirement already satisfied: scipy>=1.6.0 in /usr/local/lib/python3.10/dist-packages (from scikit-learn) (1.13.1)\n",
            "Requirement already satisfied: joblib>=1.2.0 in /usr/local/lib/python3.10/dist-packages (from scikit-learn) (1.4.2)\n",
            "Requirement already satisfied: threadpoolctl>=3.1.0 in /usr/local/lib/python3.10/dist-packages (from scikit-learn) (3.5.0)\n"
          ]
        }
      ]
    },
    {
      "cell_type": "code",
      "source": [
        "from sklearn.model_selection import train_test_split\n",
        "\n",
        "# Split the dataset into training and test sets (80% training, 20% test)\n",
        "X_train, X_test, y_train, y_test = train_test_split(X, y, test_size=0.2, random_state=42)\n",
        "\n",
        "# Verify the shapes of the splits\n",
        "print(f\"Training feature set shape: {X_train.shape}\")\n",
        "print(f\"Training target set shape: {y_train.shape}\")\n",
        "print(f\"Test feature set shape: {X_test.shape}\")\n",
        "print(f\"Test target set shape: {y_test.shape}\")\n"
      ],
      "metadata": {
        "colab": {
          "base_uri": "https://localhost:8080/"
        },
        "id": "a_ygyFXwtIJ5",
        "outputId": "cb081bef-0401-4a5b-d765-c6773dc57312"
      },
      "execution_count": 30,
      "outputs": [
        {
          "output_type": "stream",
          "name": "stdout",
          "text": [
            "Training feature set shape: (74103,)\n",
            "Training target set shape: (74103,)\n",
            "Test feature set shape: (18526,)\n",
            "Test target set shape: (18526,)\n"
          ]
        }
      ]
    },
    {
      "cell_type": "code",
      "source": [
        "#Based on your data exploration phase select a ML regression algorithm and train it on the training set\n",
        "from sklearn.linear_model import LinearRegression\n",
        "from sklearn.ensemble import RandomForestRegressor\n",
        "from sklearn.ensemble import GradientBoostingRegressor\n"
      ],
      "metadata": {
        "id": "NpBFfse2trQj"
      },
      "execution_count": 31,
      "outputs": []
    },
    {
      "cell_type": "code",
      "source": [
        "#Train the model\n",
        "# Initialize the Linear Regression model\n",
        "linear_model = LinearRegression()\n",
        "\n",
        "# Reshape X_train and y_train to be 2-dimensional using DataFrame\n",
        "X_train = X_train.to_frame()  # Convert X_train to a DataFrame\n",
        "y_train = y_train.to_frame()  # Convert y_train to a DataFrame\n",
        "\n",
        "# Train the model on the training data\n",
        "linear_model.fit(X_train, y_train)\n",
        "\n",
        "# Predict on the test data\n",
        "# Reshape X_test to be 2-dimensional using DataFrame for prediction consistency\n",
        "X_test = X_test.to_frame()\n",
        "y_pred = linear_model.predict(X_test)\n",
        "\n",
        "# Print model coefficients (if needed)\n",
        "print(f\"Linear Regression Coefficients: {linear_model.coef_}\")"
      ],
      "metadata": {
        "colab": {
          "base_uri": "https://localhost:8080/"
        },
        "id": "7gjo1z2It-wr",
        "outputId": "6bf9aa5f-e953-4d12-ee03-b34baf233382"
      },
      "execution_count": 33,
      "outputs": [
        {
          "output_type": "stream",
          "name": "stdout",
          "text": [
            "Linear Regression Coefficients: [[0.04688943]]\n"
          ]
        }
      ]
    },
    {
      "cell_type": "code",
      "source": [
        "# Initialize the Random Forest Regressor\n",
        "rf_model = RandomForestRegressor(n_estimators=100, random_state=42)\n",
        "\n",
        "# Train the model\n",
        "rf_model.fit(X_train, y_train)\n",
        "\n",
        "# Predict on the test set\n",
        "y_pred_rf = rf_model.predict(X_test)\n"
      ],
      "metadata": {
        "colab": {
          "base_uri": "https://localhost:8080/"
        },
        "id": "beIGMj0AwOcx",
        "outputId": "44bb6830-ae78-4c57-cd80-bd62477ad7e8"
      },
      "execution_count": 34,
      "outputs": [
        {
          "output_type": "stream",
          "name": "stderr",
          "text": [
            "/usr/local/lib/python3.10/dist-packages/sklearn/base.py:1473: DataConversionWarning: A column-vector y was passed when a 1d array was expected. Please change the shape of y to (n_samples,), for example using ravel().\n",
            "  return fit_method(estimator, *args, **kwargs)\n"
          ]
        }
      ]
    },
    {
      "cell_type": "code",
      "source": [
        "# Initialize the Gradient Boosting Regressor\n",
        "gb_model = GradientBoostingRegressor(n_estimators=100, random_state=42)\n",
        "\n",
        "# Train the model\n",
        "gb_model.fit(X_train, y_train)\n",
        "\n",
        "# Predict on the test set\n",
        "y_pred_gb = gb_model.predict(X_test)\n"
      ],
      "metadata": {
        "colab": {
          "base_uri": "https://localhost:8080/"
        },
        "id": "1MiggInrwYJs",
        "outputId": "c653dda6-ee40-4ed1-bf9d-9300d92e7a9d"
      },
      "execution_count": 35,
      "outputs": [
        {
          "output_type": "stream",
          "name": "stderr",
          "text": [
            "/usr/local/lib/python3.10/dist-packages/sklearn/ensemble/_gb.py:668: DataConversionWarning: A column-vector y was passed when a 1d array was expected. Please change the shape of y to (n_samples, ), for example using ravel().\n",
            "  y = column_or_1d(y, warn=True)  # TODO: Is this still required?\n"
          ]
        }
      ]
    },
    {
      "cell_type": "code",
      "source": [
        "from sklearn.metrics import mean_absolute_error, mean_squared_error, r2_score\n"
      ],
      "metadata": {
        "id": "qguuBUwgwkii"
      },
      "execution_count": 36,
      "outputs": []
    },
    {
      "cell_type": "code",
      "source": [
        "# Predictions using the trained model\n",
        "y_pred = linear_model.predict(X_test)\n",
        "\n",
        "# Calculate evaluation metrics\n",
        "mae = mean_absolute_error(y_test, y_pred)\n",
        "mse = mean_squared_error(y_test, y_pred)\n",
        "rmse = mean_squared_error(y_test, y_pred, squared=False)\n",
        "r2 = r2_score(y_test, y_pred)\n",
        "\n",
        "# Print the evaluation metrics\n",
        "print(f\"Mean Absolute Error (MAE): {mae}\")\n",
        "print(f\"Mean Squared Error (MSE): {mse}\")\n",
        "print(f\"Root Mean Squared Error (RMSE): {rmse}\")\n",
        "print(f\"R-squared (R²): {r2}\")\n"
      ],
      "metadata": {
        "colab": {
          "base_uri": "https://localhost:8080/"
        },
        "id": "DxFDrnxHwpUw",
        "outputId": "377127f0-3d88-4682-fcdd-961282c7667e"
      },
      "execution_count": 41,
      "outputs": [
        {
          "output_type": "stream",
          "name": "stdout",
          "text": [
            "Mean Absolute Error (MAE): 0.24720844815177684\n",
            "Mean Squared Error (MSE): 0.09469652274271967\n",
            "Root Mean Squared Error (RMSE): 0.30772800123277644\n",
            "R-squared (R²): 0.004647446418507117\n"
          ]
        },
        {
          "output_type": "stream",
          "name": "stderr",
          "text": [
            "/usr/local/lib/python3.10/dist-packages/sklearn/metrics/_regression.py:492: FutureWarning: 'squared' is deprecated in version 1.4 and will be removed in 1.6. To calculate the root mean squared error, use the function'root_mean_squared_error'.\n",
            "  warnings.warn(\n"
          ]
        }
      ]
    }
  ]
}