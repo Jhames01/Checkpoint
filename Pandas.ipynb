{
  "nbformat": 4,
  "nbformat_minor": 0,
  "metadata": {
    "colab": {
      "provenance": [],
      "authorship_tag": "ABX9TyPTqCIHBzS/c64o0kqQEN13",
      "include_colab_link": true
    },
    "kernelspec": {
      "name": "python3",
      "display_name": "Python 3"
    },
    "language_info": {
      "name": "python"
    }
  },
  "cells": [
    {
      "cell_type": "markdown",
      "metadata": {
        "id": "view-in-github",
        "colab_type": "text"
      },
      "source": [
        "<a href=\"https://colab.research.google.com/github/Jhames01/Checkpoint/blob/master/Pandas.ipynb\" target=\"_parent\"><img src=\"https://colab.research.google.com/assets/colab-badge.svg\" alt=\"Open In Colab\"/></a>"
      ]
    },
    {
      "cell_type": "code",
      "execution_count": 3,
      "metadata": {
        "colab": {
          "base_uri": "https://localhost:8080/"
        },
        "id": "27oK3E07tBrQ",
        "outputId": "1d6bc6e6-ddf9-4be9-be0e-3d34a41c3618"
      },
      "outputs": [
        {
          "output_type": "stream",
          "name": "stdout",
          "text": [
            "Requirement already satisfied: pandas in /usr/local/lib/python3.10/dist-packages (2.1.4)\n",
            "Requirement already satisfied: numpy<2,>=1.22.4 in /usr/local/lib/python3.10/dist-packages (from pandas) (1.26.4)\n",
            "Requirement already satisfied: python-dateutil>=2.8.2 in /usr/local/lib/python3.10/dist-packages (from pandas) (2.8.2)\n",
            "Requirement already satisfied: pytz>=2020.1 in /usr/local/lib/python3.10/dist-packages (from pandas) (2024.2)\n",
            "Requirement already satisfied: tzdata>=2022.1 in /usr/local/lib/python3.10/dist-packages (from pandas) (2024.1)\n",
            "Requirement already satisfied: six>=1.5 in /usr/local/lib/python3.10/dist-packages (from python-dateutil>=2.8.2->pandas) (1.16.0)\n"
          ]
        }
      ],
      "source": [
        "!pip install pandas"
      ]
    },
    {
      "cell_type": "code",
      "source": [
        "!pip install pandas # Installs pandas\n",
        "import pandas as pd # Imports the pandas library and assigns it the alias 'pd'\n",
        "\n",
        "data = {\"ProductName\": [\"Product 1\", \"Product 2\", \"Product 3\"], \"ProductPrice\": [10, 20, 30]}\n",
        "\n",
        "df1 = pd.DataFrame(data)\n",
        "\n",
        "print(df1)"
      ],
      "metadata": {
        "colab": {
          "base_uri": "https://localhost:8080/"
        },
        "id": "kkxCbZIeeXbY",
        "outputId": "ecefcad7-1f6c-4d54-e28c-1fd4e145362a"
      },
      "execution_count": 5,
      "outputs": [
        {
          "output_type": "stream",
          "name": "stdout",
          "text": [
            "Requirement already satisfied: pandas in /usr/local/lib/python3.10/dist-packages (2.1.4)\n",
            "Requirement already satisfied: numpy<2,>=1.22.4 in /usr/local/lib/python3.10/dist-packages (from pandas) (1.26.4)\n",
            "Requirement already satisfied: python-dateutil>=2.8.2 in /usr/local/lib/python3.10/dist-packages (from pandas) (2.8.2)\n",
            "Requirement already satisfied: pytz>=2020.1 in /usr/local/lib/python3.10/dist-packages (from pandas) (2024.2)\n",
            "Requirement already satisfied: tzdata>=2022.1 in /usr/local/lib/python3.10/dist-packages (from pandas) (2024.1)\n",
            "Requirement already satisfied: six>=1.5 in /usr/local/lib/python3.10/dist-packages (from python-dateutil>=2.8.2->pandas) (1.16.0)\n",
            "  ProductName  ProductPrice\n",
            "0   Product 1            10\n",
            "1   Product 2            20\n",
            "2   Product 3            30\n"
          ]
        }
      ]
    },
    {
      "cell_type": "code",
      "source": [
        "data = {'ProductName': ['Product 1', 'Product 2', 'Product 3'], 'ProductPrice': [10, 20, 30]}\n",
        "\n",
        "index = ['A', 'B', 'C']\n",
        "\n",
        "df6 = pd.DataFrame(data, index=index)\n",
        "\n",
        "print(df6)"
      ],
      "metadata": {
        "colab": {
          "base_uri": "https://localhost:8080/",
          "height": 211
        },
        "id": "-7n0uQigqkqj",
        "outputId": "5cd81115-447e-4141-81da-924da1edb0d6"
      },
      "execution_count": 1,
      "outputs": [
        {
          "output_type": "error",
          "ename": "NameError",
          "evalue": "name 'pd' is not defined",
          "traceback": [
            "\u001b[0;31m---------------------------------------------------------------------------\u001b[0m",
            "\u001b[0;31mNameError\u001b[0m                                 Traceback (most recent call last)",
            "\u001b[0;32m<ipython-input-1-517104b285f7>\u001b[0m in \u001b[0;36m<cell line: 5>\u001b[0;34m()\u001b[0m\n\u001b[1;32m      3\u001b[0m \u001b[0mindex\u001b[0m \u001b[0;34m=\u001b[0m \u001b[0;34m[\u001b[0m\u001b[0;34m'A'\u001b[0m\u001b[0;34m,\u001b[0m \u001b[0;34m'B'\u001b[0m\u001b[0;34m,\u001b[0m \u001b[0;34m'C'\u001b[0m\u001b[0;34m]\u001b[0m\u001b[0;34m\u001b[0m\u001b[0;34m\u001b[0m\u001b[0m\n\u001b[1;32m      4\u001b[0m \u001b[0;34m\u001b[0m\u001b[0m\n\u001b[0;32m----> 5\u001b[0;31m \u001b[0mdf6\u001b[0m \u001b[0;34m=\u001b[0m \u001b[0mpd\u001b[0m\u001b[0;34m.\u001b[0m\u001b[0mDataFrame\u001b[0m\u001b[0;34m(\u001b[0m\u001b[0mdata\u001b[0m\u001b[0;34m,\u001b[0m \u001b[0mindex\u001b[0m\u001b[0;34m=\u001b[0m\u001b[0mindex\u001b[0m\u001b[0;34m)\u001b[0m\u001b[0;34m\u001b[0m\u001b[0;34m\u001b[0m\u001b[0m\n\u001b[0m\u001b[1;32m      6\u001b[0m \u001b[0;34m\u001b[0m\u001b[0m\n\u001b[1;32m      7\u001b[0m \u001b[0mprint\u001b[0m\u001b[0;34m(\u001b[0m\u001b[0mdf6\u001b[0m\u001b[0;34m)\u001b[0m\u001b[0;34m\u001b[0m\u001b[0;34m\u001b[0m\u001b[0m\n",
            "\u001b[0;31mNameError\u001b[0m: name 'pd' is not defined"
          ]
        }
      ]
    },
    {
      "cell_type": "code",
      "source": [
        "#Create a list of products, 'Apple', 'Banana', 'Carrot', 'Daikon\n",
        "products = ['Apple','Banana','Carrot','Daikon']\n",
        "type(products)\n"
      ],
      "metadata": {
        "colab": {
          "base_uri": "https://localhost:8080/"
        },
        "id": "VmpAIAp6rTMA",
        "outputId": "d0053ddc-a905-497d-9851-87c77aaaf122"
      },
      "execution_count": 9,
      "outputs": [
        {
          "output_type": "execute_result",
          "data": {
            "text/plain": [
              "list"
            ]
          },
          "metadata": {},
          "execution_count": 9
        }
      ]
    },
    {
      "cell_type": "code",
      "source": [
        "#Convert the list into a pandas Series using the pd.Series() function\n",
        "import pandas as pd # Imports pandas and assigns it to the alias pd\n",
        "products_categories = pd.Series(products)"
      ],
      "metadata": {
        "id": "S9pBVTJvu_Ft"
      },
      "execution_count": 11,
      "outputs": []
    },
    {
      "cell_type": "code",
      "source": [
        "#Print out the new Series to see the values\n",
        "print(products_categories)"
      ],
      "metadata": {
        "colab": {
          "base_uri": "https://localhost:8080/"
        },
        "id": "H3_SQhdmvFbf",
        "outputId": "e06b9d74-5fca-40de-fe73-fd0fb3495d7e"
      },
      "execution_count": 13,
      "outputs": [
        {
          "output_type": "stream",
          "name": "stdout",
          "text": [
            "0     Apple\n",
            "1    Banana\n",
            "2    Carrot\n",
            "3    Daikon\n",
            "dtype: object\n"
          ]
        }
      ]
    },
    {
      "cell_type": "code",
      "source": [
        "#Create a Series with prices of the products, [2, 1, 3, 4]\n",
        "prices = pd.Series([2,1,3,4])"
      ],
      "metadata": {
        "id": "53v0qZ0fvp0N"
      },
      "execution_count": 15,
      "outputs": []
    },
    {
      "cell_type": "code",
      "source": [
        "#Print out the new Series to see the values\n",
        "print(prices)"
      ],
      "metadata": {
        "colab": {
          "base_uri": "https://localhost:8080/"
        },
        "id": "-6Yj7PsNwRm7",
        "outputId": "69779fef-d44a-4cc0-b82c-781808768a50"
      },
      "execution_count": 17,
      "outputs": [
        {
          "output_type": "stream",
          "name": "stdout",
          "text": [
            "0    2\n",
            "1    1\n",
            "2    3\n",
            "3    4\n",
            "dtype: int64\n"
          ]
        }
      ]
    },
    {
      "cell_type": "code",
      "source": [
        "#Add the two Series together and print out the result\n",
        "import pandas as pd\n",
        "products_categories = pd.Series(['Apple', 'Banana', 'Carrot', 'Daikon'])\n",
        "prices = pd.Series([2, 1, 3, 4])\n",
        "print(products_categories + prices.astype(str))"
      ],
      "metadata": {
        "colab": {
          "base_uri": "https://localhost:8080/"
        },
        "id": "G19UfRZqx1JU",
        "outputId": "28482a37-b768-4824-e7a4-475a06826aac"
      },
      "execution_count": 20,
      "outputs": [
        {
          "output_type": "stream",
          "name": "stdout",
          "text": [
            "0     Apple2\n",
            "1    Banana1\n",
            "2    Carrot3\n",
            "3    Daikon4\n",
            "dtype: object\n"
          ]
        }
      ]
    },
    {
      "cell_type": "code",
      "source": [
        "#Create a DataFrame using a dictionary of lists, where the keys are 'Product' and 'Price' and the values are the two Series you created.\n",
        "import pandas as pd\n",
        "data = {'productName': ['Apple', 'Banana', 'Carrot', 'Daikon'], 'productPrice': [2, 1, 3, 4]}\n",
        "df = pd.DataFrame(data)\n",
        "print(df)"
      ],
      "metadata": {
        "colab": {
          "base_uri": "https://localhost:8080/"
        },
        "id": "xv0zPXAL_04W",
        "outputId": "cbb38861-e572-4edb-e6db-6ce0994aa30c"
      },
      "execution_count": 23,
      "outputs": [
        {
          "output_type": "stream",
          "name": "stdout",
          "text": [
            "  productName  productPrice\n",
            "0       Apple             2\n",
            "1      Banana             1\n",
            "2      Carrot             3\n",
            "3      Daikon             4\n"
          ]
        }
      ]
    },
    {
      "cell_type": "code",
      "source": [
        "#Create a DataFrame using a list of dictionaries, where each dictionary represents a row in the DataFrame with keys 'Product' and 'Price' and values from the two Series you created.\n",
        "data = [['Apple',2],['Banana',1],['Carrot', 3],['Daikon', 4]]\n",
        "df = pd.DataFrame(data, columns=['productName','prices'])\n",
        "print(df)"
      ],
      "metadata": {
        "colab": {
          "base_uri": "https://localhost:8080/"
        },
        "id": "EFGf0JI6DqMe",
        "outputId": "7c0912ea-beb2-46bf-b043-6aab446fd0f7"
      },
      "execution_count": 25,
      "outputs": [
        {
          "output_type": "stream",
          "name": "stdout",
          "text": [
            "  productName  prices\n",
            "0       Apple       2\n",
            "1      Banana       1\n",
            "2      Carrot       3\n",
            "3      Daikon       4\n"
          ]
        }
      ]
    }
  ]
}