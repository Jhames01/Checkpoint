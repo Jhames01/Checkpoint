{
  "nbformat": 4,
  "nbformat_minor": 0,
  "metadata": {
    "colab": {
      "provenance": [],
      "authorship_tag": "ABX9TyM2aNujEsCKlN95hghODJdC",
      "include_colab_link": true
    },
    "kernelspec": {
      "name": "python3",
      "display_name": "Python 3"
    },
    "language_info": {
      "name": "python"
    }
  },
  "cells": [
    {
      "cell_type": "markdown",
      "metadata": {
        "id": "view-in-github",
        "colab_type": "text"
      },
      "source": [
        "<a href=\"https://colab.research.google.com/github/Jhames01/Checkpoint/blob/master/Data_pre_processing_checkpoint.ipynb\" target=\"_parent\"><img src=\"https://colab.research.google.com/assets/colab-badge.svg\" alt=\"Open In Colab\"/></a>"
      ]
    },
    {
      "cell_type": "markdown",
      "source": [
        "In this checkpoint, we are going to work on the billing history of the Tunisian electricity and gas company and apply what you learned in pre-processing chapter.\n",
        "\n",
        "Dataset description :\n",
        "\n",
        "The provided dataset contains the billing history of the Tunisian electricity and gas company's customers from 2005 to 2019\n",
        "\n",
        "Instructions\n",
        "\n",
        "Load the dataset, display the ten first lines, store the results in a variable called 'client_0_bills'.\n",
        "What is the data type of the 'client_0_bills' variable ?\n",
        "Display the general information of the dataset and try to answer the following questions :\n",
        "How many rows and columns do we have in this dataset ?\n",
        "How many categorical features are present in the dataset ?\n",
        "How much memory space does the dataset consume ?\n",
        "Inspect the dataset for potential missing values.\n",
        "Select your strategy to handle missing values, and tell us why you had made that choice.\n",
        "Run a descriptive analysis on numeric features (columns).\n",
        "Select the bills records for the client with an id ='train_Client_0', using 2 methods.\n",
        "Transform the 'counter_type' feature to a numeric variable using the encoder of your choice.\n",
        "Delete the 'counter_statue' feature from the Dataframe"
      ],
      "metadata": {
        "id": "Ttt0fbClTHft"
      }
    },
    {
      "cell_type": "code",
      "source": [
        "import pandas as pd\n",
        "\n",
        "# Load the dataset (assuming it's in CSV format)\n",
        "df = pd.read_csv('/content/STEG_BILLING_HISTORY.csv')\n",
        "\n",
        "# Display the first 10 lines\n",
        "client_0_bills = df.head(10)\n",
        "\n",
        "# Output the result\n",
        "print(client_0_bills)\n"
      ],
      "metadata": {
        "colab": {
          "base_uri": "https://localhost:8080/"
        },
        "id": "fsUB8aUSU6Fh",
        "outputId": "eb003578-022d-432b-f469-145d3f36bead"
      },
      "execution_count": 7,
      "outputs": [
        {
          "output_type": "stream",
          "name": "stderr",
          "text": [
            "<ipython-input-7-fefa812a7b0c>:4: DtypeWarning: Columns (4) have mixed types. Specify dtype option on import or set low_memory=False.\n",
            "  df = pd.read_csv('/content/STEG_BILLING_HISTORY.csv')\n"
          ]
        },
        {
          "output_type": "stream",
          "name": "stdout",
          "text": [
            "        client_id invoice_date  tarif_type  counter_number counter_statue  \\\n",
            "0  train_Client_0   2014-03-24          11       1335667.0              0   \n",
            "1  train_Client_0   2013-03-29          11       1335667.0              0   \n",
            "2  train_Client_0   2015-03-23          11       1335667.0              0   \n",
            "3  train_Client_0   2015-07-13          11       1335667.0              0   \n",
            "4  train_Client_0   2016-11-17          11       1335667.0              0   \n",
            "5  train_Client_0   2017-07-17          11       1335667.0              0   \n",
            "6  train_Client_0   2018-12-07          11       1335667.0              0   \n",
            "7  train_Client_0   2019-03-19          11       1335667.0              0   \n",
            "8  train_Client_0   2011-07-22          11       1335667.0              0   \n",
            "9  train_Client_0   2011-11-22          11       1335667.0              0   \n",
            "\n",
            "   counter_code  reading_remarque  counter_coefficient  consommation_level_1  \\\n",
            "0           203               8.0                    1                    82   \n",
            "1           203               6.0                    1                  1200   \n",
            "2           203               8.0                    1                   123   \n",
            "3           207               8.0                    1                   102   \n",
            "4           207               9.0                    1                   572   \n",
            "5           207               9.0                    1                   314   \n",
            "6           207               9.0                    1                   541   \n",
            "7           207               9.0                    1                   585   \n",
            "8           203               9.0                    1                  1200   \n",
            "9           203               6.0                    1                  1082   \n",
            "\n",
            "   consommation_level_2  consommation_level_3  consommation_level_4  \\\n",
            "0                     0                     0                     0   \n",
            "1                   184                     0                     0   \n",
            "2                     0                     0                     0   \n",
            "3                     0                     0                     0   \n",
            "4                     0                     0                     0   \n",
            "5                     0                     0                     0   \n",
            "6                     0                     0                     0   \n",
            "7                     0                     0                     0   \n",
            "8                   186                     0                     0   \n",
            "9                     0                     0                     0   \n",
            "\n",
            "   old_index  new_index  months_number counter_type  \n",
            "0      14302      14384              4         ELEC  \n",
            "1      12294      13678              4         ELEC  \n",
            "2      14624      14747              4         ELEC  \n",
            "3      14747      14849              4         ELEC  \n",
            "4      15066      15638             12         ELEC  \n",
            "5      15638      15952              8         ELEC  \n",
            "6      15952      16493             12         ELEC  \n",
            "7      16493      17078              8         ELEC  \n",
            "8       7770       9156              4         ELEC  \n",
            "9       9156      10238              4         ELEC  \n"
          ]
        }
      ]
    },
    {
      "cell_type": "code",
      "source": [
        "#What is the data type of the 'client_0_bills' variable ?\n",
        "type(client_0_bills)\n",
        "print(client_0_bills.info())"
      ],
      "metadata": {
        "colab": {
          "base_uri": "https://localhost:8080/"
        },
        "id": "ikxRHR55cflJ",
        "outputId": "18e2bbef-8b33-44ee-b429-e41239a26a54"
      },
      "execution_count": 9,
      "outputs": [
        {
          "output_type": "stream",
          "name": "stdout",
          "text": [
            "<class 'pandas.core.frame.DataFrame'>\n",
            "RangeIndex: 10 entries, 0 to 9\n",
            "Data columns (total 16 columns):\n",
            " #   Column                Non-Null Count  Dtype  \n",
            "---  ------                --------------  -----  \n",
            " 0   client_id             10 non-null     object \n",
            " 1   invoice_date          10 non-null     object \n",
            " 2   tarif_type            10 non-null     int64  \n",
            " 3   counter_number        10 non-null     float64\n",
            " 4   counter_statue        10 non-null     object \n",
            " 5   counter_code          10 non-null     int64  \n",
            " 6   reading_remarque      10 non-null     float64\n",
            " 7   counter_coefficient   10 non-null     int64  \n",
            " 8   consommation_level_1  10 non-null     int64  \n",
            " 9   consommation_level_2  10 non-null     int64  \n",
            " 10  consommation_level_3  10 non-null     int64  \n",
            " 11  consommation_level_4  10 non-null     int64  \n",
            " 12  old_index             10 non-null     int64  \n",
            " 13  new_index             10 non-null     int64  \n",
            " 14  months_number         10 non-null     int64  \n",
            " 15  counter_type          10 non-null     object \n",
            "dtypes: float64(2), int64(10), object(4)\n",
            "memory usage: 1.4+ KB\n",
            "None\n"
          ]
        }
      ]
    },
    {
      "cell_type": "code",
      "source": [
        "# Display the general information of the dataset and try to answer the following questions :\n",
        "# How many rows and columns do we have in this dataset ?\n",
        "# How many categorical features are present in the dataset ?\n",
        "# How much memory space does the dataset consume ?\n",
        "\n",
        "# Display general information about the dataset\n",
        "df_info = df.info()\n",
        "\n",
        "# Optionally, store the number of rows and columns\n",
        "num_rows = df.shape[0]\n",
        "num_columns = df.shape[1]\n",
        "\n",
        "# Count categorical features\n",
        "categorical_features = df.select_dtypes(include=['object', 'category']).shape[1]\n",
        "\n",
        "# Memory usage\n",
        "memory_usage = df.memory_usage(deep=True).sum()\n",
        "\n",
        "# Print the results\n",
        "print(f\"Number of rows: {num_rows}\")\n",
        "print(f\"Number of columns: {num_columns}\")\n",
        "print(f\"Number of categorical features: {categorical_features}\")\n",
        "print(f\"Memory usage: {memory_usage} bytes\")\n"
      ],
      "metadata": {
        "colab": {
          "base_uri": "https://localhost:8080/"
        },
        "id": "OguOWL6rea5S",
        "outputId": "0c4feb70-6647-4c6b-dca8-29969e50d853"
      },
      "execution_count": 11,
      "outputs": [
        {
          "output_type": "stream",
          "name": "stdout",
          "text": [
            "<class 'pandas.core.frame.DataFrame'>\n",
            "RangeIndex: 4476749 entries, 0 to 4476748\n",
            "Data columns (total 16 columns):\n",
            " #   Column                Dtype  \n",
            "---  ------                -----  \n",
            " 0   client_id             object \n",
            " 1   invoice_date          object \n",
            " 2   tarif_type            int64  \n",
            " 3   counter_number        float64\n",
            " 4   counter_statue        object \n",
            " 5   counter_code          int64  \n",
            " 6   reading_remarque      float64\n",
            " 7   counter_coefficient   int64  \n",
            " 8   consommation_level_1  int64  \n",
            " 9   consommation_level_2  int64  \n",
            " 10  consommation_level_3  int64  \n",
            " 11  consommation_level_4  int64  \n",
            " 12  old_index             int64  \n",
            " 13  new_index             int64  \n",
            " 14  months_number         int64  \n",
            " 15  counter_type          object \n",
            "dtypes: float64(2), int64(10), object(4)\n",
            "memory usage: 546.5+ MB\n",
            "Number of rows: 4476749\n",
            "Number of columns: 16\n",
            "Number of categorical features: 4\n",
            "Memory usage: 1482455607 bytes\n"
          ]
        }
      ]
    },
    {
      "cell_type": "code",
      "source": [
        "# Check for missing values in the dataset\n",
        "missing_values = df.isnull().sum()\n",
        "\n",
        "# Display columns with missing values\n",
        "missing_values = missing_values[missing_values > 0]\n",
        "\n",
        "# Print the result\n",
        "print(\"Columns with missing values:\")\n",
        "print(missing_values)\n"
      ],
      "metadata": {
        "colab": {
          "base_uri": "https://localhost:8080/"
        },
        "id": "WUzaGruhfC7b",
        "outputId": "5004bfba-950f-4140-c396-a9c64fda7f87"
      },
      "execution_count": 13,
      "outputs": [
        {
          "output_type": "stream",
          "name": "stdout",
          "text": [
            "Columns with missing values:\n",
            "counter_number        48\n",
            "reading_remarque    4531\n",
            "dtype: int64\n"
          ]
        }
      ]
    },
    {
      "cell_type": "code",
      "source": [
        "# Run a descriptive analysis on numeric features (columns)\n",
        "# Run descriptive analysis on numeric features\n",
        "numeric_description = df.describe()\n",
        "\n",
        "# Display the results\n",
        "print(numeric_description)\n"
      ],
      "metadata": {
        "colab": {
          "base_uri": "https://localhost:8080/"
        },
        "id": "QOTWK4T2fvB1",
        "outputId": "9b798899-1600-4bca-c74e-1e93ca5a8e9f"
      },
      "execution_count": 15,
      "outputs": [
        {
          "output_type": "stream",
          "name": "stdout",
          "text": [
            "         tarif_type  counter_number  counter_code  reading_remarque  \\\n",
            "count  4.476749e+06    4.476701e+06  4.476749e+06      4.472218e+06   \n",
            "mean   2.012804e+01    1.230595e+11  1.724884e+02      7.321713e+00   \n",
            "std    1.347256e+01    1.657276e+12  1.338871e+02      1.571859e+00   \n",
            "min    8.000000e+00    0.000000e+00  0.000000e+00      5.000000e+00   \n",
            "25%    1.100000e+01    1.211080e+05  5.000000e+00      6.000000e+00   \n",
            "50%    1.100000e+01    4.945610e+05  2.030000e+02      8.000000e+00   \n",
            "75%    4.000000e+01    1.115161e+06  2.070000e+02      9.000000e+00   \n",
            "max    4.500000e+01    2.798115e+13  6.000000e+02      4.130000e+02   \n",
            "\n",
            "       counter_coefficient  consommation_level_1  consommation_level_2  \\\n",
            "count         4.476749e+06          4.476749e+06          4.476749e+06   \n",
            "mean          1.003040e+00          4.109795e+02          1.093225e+02   \n",
            "std           3.083466e-01          7.573080e+02          1.220123e+03   \n",
            "min           0.000000e+00          0.000000e+00          0.000000e+00   \n",
            "25%           1.000000e+00          7.900000e+01          0.000000e+00   \n",
            "50%           1.000000e+00          2.740000e+02          0.000000e+00   \n",
            "75%           1.000000e+00          6.000000e+02          0.000000e+00   \n",
            "max           5.000000e+01          9.999100e+05          9.990730e+05   \n",
            "\n",
            "       consommation_level_3  consommation_level_4     old_index     new_index  \\\n",
            "count          4.476749e+06          4.476749e+06  4.476749e+06  4.476749e+06   \n",
            "mean           2.030620e+01          5.292588e+01  1.776700e+04  1.834970e+04   \n",
            "std            1.574239e+02          8.754725e+02  4.036693e+04  4.095321e+04   \n",
            "min            0.000000e+00          0.000000e+00  0.000000e+00  0.000000e+00   \n",
            "25%            0.000000e+00          0.000000e+00  1.791000e+03  2.056000e+03   \n",
            "50%            0.000000e+00          0.000000e+00  7.690000e+03  8.192000e+03   \n",
            "75%            0.000000e+00          0.000000e+00  2.166000e+04  2.234300e+04   \n",
            "max            6.449200e+04          5.479460e+05  2.800280e+06  2.870972e+06   \n",
            "\n",
            "       months_number  \n",
            "count   4.476749e+06  \n",
            "mean    4.483095e+01  \n",
            "std     3.128335e+03  \n",
            "min     0.000000e+00  \n",
            "25%     4.000000e+00  \n",
            "50%     4.000000e+00  \n",
            "75%     4.000000e+00  \n",
            "max     6.366240e+05  \n"
          ]
        }
      ]
    },
    {
      "cell_type": "code",
      "source": [
        "# Select the bills records for the client with an id ='train_Client_0', using 2 methods\n",
        "# Select records using boolean indexing\n",
        "client_0_bills = df[df['client_id'] == 'train_Client_0']\n",
        "\n",
        "# Display the result\n",
        "print(client_0_bills)\n"
      ],
      "metadata": {
        "colab": {
          "base_uri": "https://localhost:8080/"
        },
        "id": "OTgF0gSImGUj",
        "outputId": "22f2e490-3623-4ee1-d139-f47f36c1716d"
      },
      "execution_count": 19,
      "outputs": [
        {
          "output_type": "stream",
          "name": "stdout",
          "text": [
            "         client_id invoice_date  tarif_type  counter_number counter_statue  \\\n",
            "0   train_Client_0   2014-03-24          11       1335667.0              0   \n",
            "1   train_Client_0   2013-03-29          11       1335667.0              0   \n",
            "2   train_Client_0   2015-03-23          11       1335667.0              0   \n",
            "3   train_Client_0   2015-07-13          11       1335667.0              0   \n",
            "4   train_Client_0   2016-11-17          11       1335667.0              0   \n",
            "5   train_Client_0   2017-07-17          11       1335667.0              0   \n",
            "6   train_Client_0   2018-12-07          11       1335667.0              0   \n",
            "7   train_Client_0   2019-03-19          11       1335667.0              0   \n",
            "8   train_Client_0   2011-07-22          11       1335667.0              0   \n",
            "9   train_Client_0   2011-11-22          11       1335667.0              0   \n",
            "10  train_Client_0   2008-11-25          11       1335667.0              0   \n",
            "11  train_Client_0   2012-07-23          11       1335667.0              0   \n",
            "12  train_Client_0   2012-11-29          11       1335667.0              0   \n",
            "13  train_Client_0   2013-07-22          11       1335667.0              0   \n",
            "14  train_Client_0   2014-07-18          11       1335667.0              0   \n",
            "15  train_Client_0   2014-11-24          11       1335667.0              0   \n",
            "16  train_Client_0   2015-11-18          11       1335667.0              0   \n",
            "17  train_Client_0   2012-03-27          11       1335667.0              0   \n",
            "18  train_Client_0   2011-03-30          11       1335667.0              0   \n",
            "19  train_Client_0   2013-02-12          11       1335667.0              0   \n",
            "20  train_Client_0   2010-07-22          11       1335667.0              0   \n",
            "21  train_Client_0   2010-11-24          11       1335667.0              0   \n",
            "22  train_Client_0   2005-10-17          11       1335667.0              0   \n",
            "23  train_Client_0   2006-02-24          11       1335667.0              0   \n",
            "24  train_Client_0   2006-06-23          11       1335667.0              0   \n",
            "25  train_Client_0   2006-10-18          11       1335667.0              0   \n",
            "26  train_Client_0   2007-06-27          11       1335667.0              0   \n",
            "27  train_Client_0   2007-10-25          11       1335667.0              0   \n",
            "28  train_Client_0   2007-02-26          11       1335667.0              0   \n",
            "29  train_Client_0   2008-07-28          11       1335667.0              0   \n",
            "30  train_Client_0   2009-01-04          11       1335667.0              0   \n",
            "31  train_Client_0   2009-07-27          11       1335667.0              0   \n",
            "32  train_Client_0   2009-11-24          11       1335667.0              0   \n",
            "33  train_Client_0   2010-03-29          11       1335667.0              0   \n",
            "34  train_Client_0   2008-01-04          11       1335667.0              0   \n",
            "\n",
            "    counter_code  reading_remarque  counter_coefficient  consommation_level_1  \\\n",
            "0            203               8.0                    1                    82   \n",
            "1            203               6.0                    1                  1200   \n",
            "2            203               8.0                    1                   123   \n",
            "3            207               8.0                    1                   102   \n",
            "4            207               9.0                    1                   572   \n",
            "5            207               9.0                    1                   314   \n",
            "6            207               9.0                    1                   541   \n",
            "7            207               9.0                    1                   585   \n",
            "8            203               9.0                    1                  1200   \n",
            "9            203               6.0                    1                  1082   \n",
            "10           203               6.0                    1                   174   \n",
            "11           203               6.0                    1                   628   \n",
            "12           203               6.0                    1                   886   \n",
            "13           203               8.0                    1                   147   \n",
            "14           203               8.0                    1                    99   \n",
            "15           203               8.0                    1                   141   \n",
            "16           207               9.0                    1                   217   \n",
            "17           203               8.0                    1                   292   \n",
            "18           203               6.0                    1                   497   \n",
            "19           203               8.0                    1                    38   \n",
            "20           203               6.0                    1                   278   \n",
            "21           203               6.0                    1                   234   \n",
            "22           203               6.0                    1                   124   \n",
            "23           203               6.0                    1                   141   \n",
            "24           203               6.0                    1                   162   \n",
            "25           203               6.0                    1                   159   \n",
            "26           203               6.0                    1                   240   \n",
            "27           203               6.0                    1                   276   \n",
            "28           203               6.0                    1                   182   \n",
            "29           203               6.0                    1                   171   \n",
            "30           203               6.0                    1                   315   \n",
            "31           203               6.0                    1                   312   \n",
            "32           203               6.0                    1                   267   \n",
            "33           203               6.0                    1                   276   \n",
            "34           203               6.0                    1                   277   \n",
            "\n",
            "    consommation_level_2  consommation_level_3  consommation_level_4  \\\n",
            "0                      0                     0                     0   \n",
            "1                    184                     0                     0   \n",
            "2                      0                     0                     0   \n",
            "3                      0                     0                     0   \n",
            "4                      0                     0                     0   \n",
            "5                      0                     0                     0   \n",
            "6                      0                     0                     0   \n",
            "7                      0                     0                     0   \n",
            "8                    186                     0                     0   \n",
            "9                      0                     0                     0   \n",
            "10                     0                     0                     0   \n",
            "11                     0                     0                     0   \n",
            "12                     0                     0                     0   \n",
            "13                     0                     0                     0   \n",
            "14                     0                     0                     0   \n",
            "15                     0                     0                     0   \n",
            "16                     0                     0                     0   \n",
            "17                     0                     0                     0   \n",
            "18                     0                     0                     0   \n",
            "19                     0                     0                     0   \n",
            "20                     0                     0                     0   \n",
            "21                     0                     0                     0   \n",
            "22                     0                     0                     0   \n",
            "23                     0                     0                     0   \n",
            "24                     0                     0                     0   \n",
            "25                     0                     0                     0   \n",
            "26                     0                     0                     0   \n",
            "27                     0                     0                     0   \n",
            "28                     0                     0                     0   \n",
            "29                     0                     0                     0   \n",
            "30                     0                     0                     0   \n",
            "31                     0                     0                     0   \n",
            "32                     0                     0                     0   \n",
            "33                     0                     0                     0   \n",
            "34                     0                     0                     0   \n",
            "\n",
            "    old_index  new_index  months_number counter_type  counter_type_numeric  \n",
            "0       14302      14384              4         ELEC                     0  \n",
            "1       12294      13678              4         ELEC                     0  \n",
            "2       14624      14747              4         ELEC                     0  \n",
            "3       14747      14849              4         ELEC                     0  \n",
            "4       15066      15638             12         ELEC                     0  \n",
            "5       15638      15952              8         ELEC                     0  \n",
            "6       15952      16493             12         ELEC                     0  \n",
            "7       16493      17078              8         ELEC                     0  \n",
            "8        7770       9156              4         ELEC                     0  \n",
            "9        9156      10238              4         ELEC                     0  \n",
            "10       5417       5591              4         ELEC                     0  \n",
            "11      10780      11408              4         ELEC                     0  \n",
            "12      11408      12294              4         ELEC                     0  \n",
            "13      13983      14130              4         ELEC                     0  \n",
            "14      14384      14483              4         ELEC                     0  \n",
            "15      14483      14624              4         ELEC                     0  \n",
            "16      14849      15066              4         ELEC                     0  \n",
            "17      10488      10780              4         ELEC                     0  \n",
            "18       7273       7770              4         ELEC                     0  \n",
            "19      14264      14302              2         ELEC                     0  \n",
            "20       6761       7039              4         ELEC                     0  \n",
            "21       7039       7273              4         ELEC                     0  \n",
            "22       3685       3809              4         ELEC                     0  \n",
            "23       3809       3950              4         ELEC                     0  \n",
            "24       3950       4112              4         ELEC                     0  \n",
            "25       4112       4271              4         ELEC                     0  \n",
            "26       4453       4693              4         ELEC                     0  \n",
            "27       4693       4969              4         ELEC                     0  \n",
            "28       4271       4453              4         ELEC                     0  \n",
            "29       5246       5417              4         ELEC                     0  \n",
            "30       5591       5906              4         ELEC                     0  \n",
            "31       5906       6218              4         ELEC                     0  \n",
            "32       6218       6485              4         ELEC                     0  \n",
            "33       6485       6761              4         ELEC                     0  \n",
            "34       4969       5246              4         ELEC                     0  \n"
          ]
        }
      ]
    },
    {
      "cell_type": "code",
      "source": [
        "# Transform the 'counter_type' feature to a numeric variable using the encoder of your choice\n",
        "\n",
        "from sklearn.preprocessing import LabelEncoder\n",
        "\n",
        "# Initialize the LabelEncoder\n",
        "label_encoder = LabelEncoder()\n",
        "\n",
        "# Transform the 'counter_type' feature\n",
        "df['counter_type_numeric'] = label_encoder.fit_transform(df['counter_type'])\n",
        "\n",
        "# Display the updated DataFrame\n",
        "print(df[['counter_type', 'counter_type_numeric']].head())\n"
      ],
      "metadata": {
        "colab": {
          "base_uri": "https://localhost:8080/"
        },
        "id": "Qe0ghH8CnLVC",
        "outputId": "f3cedc6a-9f1d-4694-b1e0-3c769f162d38"
      },
      "execution_count": 20,
      "outputs": [
        {
          "output_type": "stream",
          "name": "stdout",
          "text": [
            "  counter_type  counter_type_numeric\n",
            "0         ELEC                     0\n",
            "1         ELEC                     0\n",
            "2         ELEC                     0\n",
            "3         ELEC                     0\n",
            "4         ELEC                     0\n"
          ]
        }
      ]
    },
    {
      "cell_type": "code",
      "source": [
        "# Delete the 'counter_statue' feature from the Dataframe\n",
        "# Delete the 'counter_statue' column from the DataFrame\n",
        "df = df.drop(columns=['counter_statue'])\n",
        "\n",
        "# Display the updated DataFrame to confirm deletion\n",
        "print(df.head())\n"
      ],
      "metadata": {
        "colab": {
          "base_uri": "https://localhost:8080/"
        },
        "id": "-HoIhro4o5rW",
        "outputId": "b5a0de73-23c2-4b2f-8dbe-e0c02981e1aa"
      },
      "execution_count": 21,
      "outputs": [
        {
          "output_type": "stream",
          "name": "stdout",
          "text": [
            "        client_id invoice_date  tarif_type  counter_number  counter_code  \\\n",
            "0  train_Client_0   2014-03-24          11       1335667.0           203   \n",
            "1  train_Client_0   2013-03-29          11       1335667.0           203   \n",
            "2  train_Client_0   2015-03-23          11       1335667.0           203   \n",
            "3  train_Client_0   2015-07-13          11       1335667.0           207   \n",
            "4  train_Client_0   2016-11-17          11       1335667.0           207   \n",
            "\n",
            "   reading_remarque  counter_coefficient  consommation_level_1  \\\n",
            "0               8.0                    1                    82   \n",
            "1               6.0                    1                  1200   \n",
            "2               8.0                    1                   123   \n",
            "3               8.0                    1                   102   \n",
            "4               9.0                    1                   572   \n",
            "\n",
            "   consommation_level_2  consommation_level_3  consommation_level_4  \\\n",
            "0                     0                     0                     0   \n",
            "1                   184                     0                     0   \n",
            "2                     0                     0                     0   \n",
            "3                     0                     0                     0   \n",
            "4                     0                     0                     0   \n",
            "\n",
            "   old_index  new_index  months_number counter_type  counter_type_numeric  \n",
            "0      14302      14384              4         ELEC                     0  \n",
            "1      12294      13678              4         ELEC                     0  \n",
            "2      14624      14747              4         ELEC                     0  \n",
            "3      14747      14849              4         ELEC                     0  \n",
            "4      15066      15638             12         ELEC                     0  \n"
          ]
        }
      ]
    }
  ]
}