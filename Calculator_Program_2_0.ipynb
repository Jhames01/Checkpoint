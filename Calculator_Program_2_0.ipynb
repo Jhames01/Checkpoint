{
  "nbformat": 4,
  "nbformat_minor": 0,
  "metadata": {
    "colab": {
      "provenance": [],
      "authorship_tag": "ABX9TyPce6aWg3FaOgStmSB1iu3G",
      "include_colab_link": true
    },
    "kernelspec": {
      "name": "python3",
      "display_name": "Python 3"
    },
    "language_info": {
      "name": "python"
    }
  },
  "cells": [
    {
      "cell_type": "markdown",
      "metadata": {
        "id": "view-in-github",
        "colab_type": "text"
      },
      "source": [
        "<a href=\"https://colab.research.google.com/github/Jhames01/Checkpoint/blob/master/Calculator_Program_2_0.ipynb\" target=\"_parent\"><img src=\"https://colab.research.google.com/assets/colab-badge.svg\" alt=\"Open In Colab\"/></a>"
      ]
    },
    {
      "cell_type": "markdown",
      "source": [
        "In this exercise, you will expand on the basic calculator program by adding more advanced mathematical operations and error handling using object-oriented programming.\n",
        "\n",
        "\n",
        "Instructions\n",
        "\n",
        "Create a new file called \"calculator_2.0.py\"\n",
        "Create a class called \"Calculator\" that contains the following:\n",
        "A dictionary attribute to store the available mathematical operations and their corresponding functions\n",
        "A method called \"init\" that initializes the dictionary with the basic mathematical operations (+, -, *, /) and corresponding functions\n",
        "A method called \"add_operation\" that takes in two arguments: the operation symbol and the corresponding function. This method should add the new operation and function to the dictionary.\n",
        "A method called \"calculate\" that takes in three arguments: the first number, the operation symbol, and the second number. This method should use the dictionary to determine the appropriate function to perform the calculation. It should also include error handling to check if the operation symbol is valid and if the input values are numbers. If an error is encountered, the method should print an error message and raise an exception.\n",
        "Create separate functions for the advanced mathematical operations (exponentiation, square root, logarithm) and use the \"add_operation\" method to add them to the calculator's dictionary.\n",
        "In the main program, create an instance of the Calculator class, and use a while loop that allows the user to continue performing calculations until they choose to exit.\n",
        "Use the input() function to get input from the user for the numbers and operation symbol.Use the math library for advanced mathematical operations\n",
        "Use the isinstance() function to check if the input is a number."
      ],
      "metadata": {
        "id": "pcNzOSAXKI7f"
      }
    },
    {
      "cell_type": "code",
      "source": [
        "import math\n",
        "\n",
        "class Calculator:\n",
        "    def __init__(self):\n",
        "        self.operations = {\n",
        "            '+': self.add,\n",
        "            '-': self.subtract,\n",
        "            '*': self.multiply,\n",
        "            '/': self.divide\n",
        "        }\n",
        "\n",
        "    def add_operation(self, symbol, function):\n",
        "        self.operations[symbol] = function\n",
        "\n",
        "    def calculate(self, num1, operation, num2):\n",
        "        if not (isinstance(num1, (int, float)) and isinstance(num2, (int, float))):\n",
        "            raise ValueError(\"Both num1 and num2 must be numbers.\")\n",
        "\n",
        "        if operation not in self.operations:\n",
        "            print(f\"Error: Operation '{operation}' is not valid.\")\n",
        "            raise KeyError(f\"Invalid operation: {operation}\")\n",
        "\n",
        "        return self.operations[operation](num1, num2)\n",
        "\n",
        "    @staticmethod\n",
        "    def add(x, y):\n",
        "        return x + y\n",
        "\n",
        "    @staticmethod\n",
        "    def subtract(x, y):\n",
        "        return x - y\n",
        "\n",
        "    @staticmethod\n",
        "    def multiply(x, y):\n",
        "        return x * y\n",
        "\n",
        "    @staticmethod\n",
        "    def divide(x, y):\n",
        "        if y == 0:\n",
        "            print(\"Error: Division by zero.\")\n",
        "            raise ZeroDivisionError(\"Cannot divide by zero.\")\n",
        "        return x / y\n",
        "\n",
        "# Advanced operations\n",
        "def exponentiation(x, y):\n",
        "    return x ** y\n",
        "\n",
        "def square_root(x):\n",
        "    if x < 0:\n",
        "        print(\"Error: Cannot take the square root of a negative number.\")\n",
        "        raise ValueError(\"Cannot take the square root of a negative number.\")\n",
        "    return math.sqrt(x)\n",
        "\n",
        "def logarithm(x):\n",
        "    if x <= 0:\n",
        "        print(\"Error: Logarithm undefined for non-positive values.\")\n",
        "        raise ValueError(\"Logarithm undefined for non-positive values.\")\n",
        "    return math.log(x)\n",
        "\n",
        "# Adding advanced operations to the calculator\n",
        "calc = Calculator()\n",
        "calc.add_operation('**', exponentiation)\n",
        "calc.add_operation('sqrt', square_root)\n",
        "calc.add_operation('log', logarithm)\n",
        "\n",
        "# Main program loop\n",
        "def main():\n",
        "    while True:\n",
        "        print(\"\\nAvailable operations: +, -, *, /, ** (exponentiation), sqrt (square root), log (logarithm)\")\n",
        "        operation = input(\"Enter operation (or type 'exit' to quit): \").strip()\n",
        "\n",
        "        if operation.lower() == 'exit':\n",
        "            print(\"Exiting calculator.\")\n",
        "            break\n",
        "\n",
        "        if operation in ['sqrt', 'log']:\n",
        "            num1 = float(input(\"Enter the number: \"))\n",
        "            try:\n",
        "                result = calc.calculate(num1, operation, 0)  # second num is irrelevant for these ops\n",
        "                print(f\"Result: {result}\")\n",
        "            except Exception as e:\n",
        "                print(e)\n",
        "        else:\n",
        "            num1 = float(input(\"Enter the first number: \"))\n",
        "            num2 = float(input(\"Enter the second number: \"))\n",
        "            try:\n",
        "                result = calc.calculate(num1, operation, num2)\n",
        "                print(f\"Result: {result}\")\n",
        "            except Exception as e:\n",
        "                print(e)\n",
        "\n",
        "if __name__ == \"__main__\":\n",
        "    main()\n"
      ],
      "metadata": {
        "colab": {
          "base_uri": "https://localhost:8080/"
        },
        "id": "ke6bmgTkKLO7",
        "outputId": "41617b13-29e8-42e5-9df9-eee616a12f32"
      },
      "execution_count": 2,
      "outputs": [
        {
          "output_type": "stream",
          "name": "stdout",
          "text": [
            "\n",
            "Available operations: +, -, *, /, ** (exponentiation), sqrt (square root), log (logarithm)\n",
            "Enter operation (or type 'exit' to quit): +\n",
            "Enter the first number: 78\n",
            "Enter the second number: 88\n",
            "Result: 166.0\n",
            "\n",
            "Available operations: +, -, *, /, ** (exponentiation), sqrt (square root), log (logarithm)\n",
            "Enter operation (or type 'exit' to quit): **\n",
            "Enter the first number: 72\n",
            "Enter the second number: 9\n",
            "Result: 5.199869781422899e+16\n",
            "\n",
            "Available operations: +, -, *, /, ** (exponentiation), sqrt (square root), log (logarithm)\n",
            "Enter operation (or type 'exit' to quit): exit\n",
            "Exiting calculator.\n"
          ]
        }
      ]
    }
  ]
}