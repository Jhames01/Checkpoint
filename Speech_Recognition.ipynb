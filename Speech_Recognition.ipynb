{
  "nbformat": 4,
  "nbformat_minor": 0,
  "metadata": {
    "colab": {
      "provenance": [],
      "include_colab_link": true
    },
    "kernelspec": {
      "name": "python3",
      "display_name": "Python 3"
    },
    "language_info": {
      "name": "python"
    }
  },
  "cells": [
    {
      "cell_type": "markdown",
      "metadata": {
        "id": "view-in-github",
        "colab_type": "text"
      },
      "source": [
        "<a href=\"https://colab.research.google.com/github/Jhames01/Checkpoint/blob/master/Speech_Recognition.ipynb\" target=\"_parent\"><img src=\"https://colab.research.google.com/assets/colab-badge.svg\" alt=\"Open In Colab\"/></a>"
      ]
    },
    {
      "cell_type": "markdown",
      "source": [
        "# **What You're Aiming For**\n",
        "\n",
        "Improve the Speech Recognition App\n",
        "\n",
        "In this exercise, you will improve the Speech Recognition App by adding some features to enhance its functionality.\n",
        "\n",
        "\n",
        "# **Instructions**\n",
        "\n",
        "1. Include a new option for users to select the speech recognition API they want to use. In addition to Google Speech Recognition, consider other APIs available in the provided libraries.\n",
        "2. Improve the error handling in the transcribe_speech() function to provide more meaningful error messages to the user.\n",
        "3. Add a feature to allow the user to save the transcribed text to a file.\n",
        "4. Add a feature to allow the user to choose the language they are speaking in, and configure the speech recognition API to use that language.\n",
        "5. Add a feature to allow the user to pause and resume the speech recognition process.\n",
        "\n",
        "# **Note:**\n",
        "\n",
        "When adding new features, be sure to test the app thoroughly to ensure that it is working correctly. Also, consider the user experience and design the app to be intuitive and easy to use. Finally, if you encounter any issues or challenges, don't hesitate to consult the documentation or seek help from the community."
      ],
      "metadata": {
        "id": "E6Wx94EDBoof"
      }
    },
    {
      "cell_type": "code",
      "source": [
        "!pip install streamlit"
      ],
      "metadata": {
        "id": "xeYxR-ENCJ3h",
        "colab": {
          "base_uri": "https://localhost:8080/"
        },
        "outputId": "40375196-f569-4b7f-a34f-ecd8403c149d"
      },
      "execution_count": null,
      "outputs": [
        {
          "output_type": "stream",
          "name": "stdout",
          "text": [
            "Requirement already satisfied: streamlit in /usr/local/lib/python3.10/dist-packages (1.37.1)\n",
            "Requirement already satisfied: altair<6,>=4.0 in /usr/local/lib/python3.10/dist-packages (from streamlit) (4.2.2)\n",
            "Requirement already satisfied: blinker<2,>=1.0.0 in /usr/lib/python3/dist-packages (from streamlit) (1.4)\n",
            "Requirement already satisfied: cachetools<6,>=4.0 in /usr/local/lib/python3.10/dist-packages (from streamlit) (5.4.0)\n",
            "Requirement already satisfied: click<9,>=7.0 in /usr/local/lib/python3.10/dist-packages (from streamlit) (8.1.7)\n",
            "Requirement already satisfied: numpy<3,>=1.20 in /usr/local/lib/python3.10/dist-packages (from streamlit) (1.26.4)\n",
            "Requirement already satisfied: packaging<25,>=20 in /usr/local/lib/python3.10/dist-packages (from streamlit) (24.1)\n",
            "Requirement already satisfied: pandas<3,>=1.3.0 in /usr/local/lib/python3.10/dist-packages (from streamlit) (2.1.4)\n",
            "Requirement already satisfied: pillow<11,>=7.1.0 in /usr/local/lib/python3.10/dist-packages (from streamlit) (9.4.0)\n",
            "Requirement already satisfied: protobuf<6,>=3.20 in /usr/local/lib/python3.10/dist-packages (from streamlit) (3.20.3)\n",
            "Requirement already satisfied: pyarrow>=7.0 in /usr/local/lib/python3.10/dist-packages (from streamlit) (14.0.2)\n",
            "Requirement already satisfied: requests<3,>=2.27 in /usr/local/lib/python3.10/dist-packages (from streamlit) (2.32.3)\n",
            "Requirement already satisfied: rich<14,>=10.14.0 in /usr/local/lib/python3.10/dist-packages (from streamlit) (13.7.1)\n",
            "Requirement already satisfied: tenacity<9,>=8.1.0 in /usr/local/lib/python3.10/dist-packages (from streamlit) (8.5.0)\n",
            "Requirement already satisfied: toml<2,>=0.10.1 in /usr/local/lib/python3.10/dist-packages (from streamlit) (0.10.2)\n",
            "Requirement already satisfied: typing-extensions<5,>=4.3.0 in /usr/local/lib/python3.10/dist-packages (from streamlit) (4.12.2)\n",
            "Requirement already satisfied: gitpython!=3.1.19,<4,>=3.0.7 in /usr/local/lib/python3.10/dist-packages (from streamlit) (3.1.43)\n",
            "Requirement already satisfied: pydeck<1,>=0.8.0b4 in /usr/local/lib/python3.10/dist-packages (from streamlit) (0.9.1)\n",
            "Requirement already satisfied: tornado<7,>=6.0.3 in /usr/local/lib/python3.10/dist-packages (from streamlit) (6.3.3)\n",
            "Requirement already satisfied: watchdog<5,>=2.1.5 in /usr/local/lib/python3.10/dist-packages (from streamlit) (4.0.2)\n",
            "Requirement already satisfied: entrypoints in /usr/local/lib/python3.10/dist-packages (from altair<6,>=4.0->streamlit) (0.4)\n",
            "Requirement already satisfied: jinja2 in /usr/local/lib/python3.10/dist-packages (from altair<6,>=4.0->streamlit) (3.1.4)\n",
            "Requirement already satisfied: jsonschema>=3.0 in /usr/local/lib/python3.10/dist-packages (from altair<6,>=4.0->streamlit) (4.23.0)\n",
            "Requirement already satisfied: toolz in /usr/local/lib/python3.10/dist-packages (from altair<6,>=4.0->streamlit) (0.12.1)\n",
            "Requirement already satisfied: gitdb<5,>=4.0.1 in /usr/local/lib/python3.10/dist-packages (from gitpython!=3.1.19,<4,>=3.0.7->streamlit) (4.0.11)\n",
            "Requirement already satisfied: python-dateutil>=2.8.2 in /usr/local/lib/python3.10/dist-packages (from pandas<3,>=1.3.0->streamlit) (2.8.2)\n",
            "Requirement already satisfied: pytz>=2020.1 in /usr/local/lib/python3.10/dist-packages (from pandas<3,>=1.3.0->streamlit) (2024.1)\n",
            "Requirement already satisfied: tzdata>=2022.1 in /usr/local/lib/python3.10/dist-packages (from pandas<3,>=1.3.0->streamlit) (2024.1)\n",
            "Requirement already satisfied: charset-normalizer<4,>=2 in /usr/local/lib/python3.10/dist-packages (from requests<3,>=2.27->streamlit) (3.3.2)\n",
            "Requirement already satisfied: idna<4,>=2.5 in /usr/local/lib/python3.10/dist-packages (from requests<3,>=2.27->streamlit) (3.7)\n",
            "Requirement already satisfied: urllib3<3,>=1.21.1 in /usr/local/lib/python3.10/dist-packages (from requests<3,>=2.27->streamlit) (2.0.7)\n",
            "Requirement already satisfied: certifi>=2017.4.17 in /usr/local/lib/python3.10/dist-packages (from requests<3,>=2.27->streamlit) (2024.7.4)\n",
            "Requirement already satisfied: markdown-it-py>=2.2.0 in /usr/local/lib/python3.10/dist-packages (from rich<14,>=10.14.0->streamlit) (3.0.0)\n",
            "Requirement already satisfied: pygments<3.0.0,>=2.13.0 in /usr/local/lib/python3.10/dist-packages (from rich<14,>=10.14.0->streamlit) (2.16.1)\n",
            "Requirement already satisfied: smmap<6,>=3.0.1 in /usr/local/lib/python3.10/dist-packages (from gitdb<5,>=4.0.1->gitpython!=3.1.19,<4,>=3.0.7->streamlit) (5.0.1)\n",
            "Requirement already satisfied: MarkupSafe>=2.0 in /usr/local/lib/python3.10/dist-packages (from jinja2->altair<6,>=4.0->streamlit) (2.1.5)\n",
            "Requirement already satisfied: attrs>=22.2.0 in /usr/local/lib/python3.10/dist-packages (from jsonschema>=3.0->altair<6,>=4.0->streamlit) (24.2.0)\n",
            "Requirement already satisfied: jsonschema-specifications>=2023.03.6 in /usr/local/lib/python3.10/dist-packages (from jsonschema>=3.0->altair<6,>=4.0->streamlit) (2023.12.1)\n",
            "Requirement already satisfied: referencing>=0.28.4 in /usr/local/lib/python3.10/dist-packages (from jsonschema>=3.0->altair<6,>=4.0->streamlit) (0.35.1)\n",
            "Requirement already satisfied: rpds-py>=0.7.1 in /usr/local/lib/python3.10/dist-packages (from jsonschema>=3.0->altair<6,>=4.0->streamlit) (0.20.0)\n",
            "Requirement already satisfied: mdurl~=0.1 in /usr/local/lib/python3.10/dist-packages (from markdown-it-py>=2.2.0->rich<14,>=10.14.0->streamlit) (0.1.2)\n",
            "Requirement already satisfied: six>=1.5 in /usr/local/lib/python3.10/dist-packages (from python-dateutil>=2.8.2->pandas<3,>=1.3.0->streamlit) (1.16.0)\n"
          ]
        }
      ]
    },
    {
      "cell_type": "code",
      "source": [
        "!pip install SpeechRecognition"
      ],
      "metadata": {
        "id": "6_bMJ6BaC9yF"
      },
      "execution_count": null,
      "outputs": []
    },
    {
      "cell_type": "code",
      "execution_count": null,
      "metadata": {
        "id": "bNC4YA0RBfK2",
        "colab": {
          "base_uri": "https://localhost:8080/"
        },
        "outputId": "dba72ba2-0da2-4692-b764-d33c1e936c59"
      },
      "outputs": [
        {
          "output_type": "stream",
          "name": "stdout",
          "text": [
            "Overwriting app.py\n"
          ]
        }
      ],
      "source": [
        "%%writefile app.py\n",
        "\n",
        "import speech_recognition as sr\n",
        "import streamlit as st\n",
        "from io import BytesIO\n",
        "\n",
        "# Initialize the recognizer\n",
        "recognizer = sr.Recognizer()\n",
        "\n",
        "# Streamlit app\n",
        "def main():\n",
        "    st.title(\"Enhanced Speech Recognition App\")\n",
        "\n",
        "    st.write(\"\"\"\n",
        "        ### Instructions\n",
        "        1. Select the speech recognition API you want to use.\n",
        "        2. Choose the language you are speaking in.\n",
        "        3. Upload an audio file or use your microphone to record speech.\n",
        "        4. Click \"Transcribe Speech\" to get the transcription.\n",
        "        5. Save the transcribed text to a file if desired.\n",
        "    \"\"\")\n",
        "\n",
        "    # Select API\n",
        "    api_choice = st.selectbox(\"Select Speech Recognition API\", options=['Google', 'Sphinx'])\n",
        "\n",
        "    # Language selection\n",
        "    language = st.text_input(\"Enter language code (e.g., 'en-US' for English, 'es-ES' for Spanish)\", 'en-US')\n",
        "\n",
        "    # Upload audio file\n",
        "    uploaded_file = st.file_uploader(\"Upload an audio file\", type=[\"wav\", \"mp3\"])\n",
        "\n",
        "    # Microphone recording\n",
        "    use_microphone = st.checkbox(\"Use Microphone for recording\")\n",
        "\n",
        "    # Buttons\n",
        "    if st.button(\"Transcribe Speech\"):\n",
        "        if use_microphone:\n",
        "            with sr.Microphone() as source:\n",
        "                st.write(\"Listening...\")\n",
        "                audio_data = recognizer.listen(source)\n",
        "        elif uploaded_file:\n",
        "            audio_data = sr.AudioFile(uploaded_file)\n",
        "        else:\n",
        "            st.error(\"Please upload an audio file or select the microphone option.\")\n",
        "            return\n",
        "\n",
        "        try:\n",
        "            if api_choice == 'Google':\n",
        "                transcription = recognizer.recognize_google(audio_data, language=language)\n",
        "            elif api_choice == 'Sphinx':\n",
        "                transcription = recognizer.recognize_sphinx(audio_data, language=language)\n",
        "            else:\n",
        "                st.error(\"Selected API is not supported.\")\n",
        "                return\n",
        "\n",
        "            st.write(\"Transcription:\")\n",
        "            st.write(transcription)\n",
        "\n",
        "            # Save to file\n",
        "            if st.button(\"Save Transcription\"):\n",
        "                with open(\"transcription.txt\", \"w\") as file:\n",
        "                    file.write(transcription)\n",
        "                st.success(\"Transcription saved as 'transcription.txt'.\")\n",
        "\n",
        "        except sr.UnknownValueError:\n",
        "            st.error(\"Speech Recognition could not understand the audio.\")\n",
        "        except sr.RequestError as e:\n",
        "            st.error(f\"Could not request results from the speech recognition service; {e}\")\n",
        "        except Exception as e:\n",
        "            st.error(f\"An error occurred: {e}\")\n",
        "\n",
        "if __name__ == \"__main__\":\n",
        "    main()\n"
      ]
    },
    {
      "cell_type": "code",
      "source": [
        "!npm install localtunnel"
      ],
      "metadata": {
        "id": "EgpQhwxTEdrV",
        "colab": {
          "base_uri": "https://localhost:8080/"
        },
        "outputId": "3fa50c14-5201-4c6b-b144-07cd5a055f70"
      },
      "execution_count": null,
      "outputs": [
        {
          "output_type": "stream",
          "name": "stdout",
          "text": [
            "\u001b[K\u001b[?25h\n",
            "up to date, audited 23 packages in 1s\n",
            "\n",
            "3 packages are looking for funding\n",
            "  run `npm fund` for details\n",
            "\n",
            "2 \u001b[33m\u001b[1mmoderate\u001b[22m\u001b[39m severity vulnerabilities\n",
            "\n",
            "To address all issues (including breaking changes), run:\n",
            "  npm audit fix --force\n",
            "\n",
            "Run `npm audit` for details.\n"
          ]
        }
      ]
    },
    {
      "cell_type": "code",
      "source": [
        "!streamlit run app.py & npx localtunnel --port 8501 & curl -s ipv4.icanhazip.com"
      ],
      "metadata": {
        "id": "LZEqYF0iEkCq",
        "colab": {
          "base_uri": "https://localhost:8080/"
        },
        "outputId": "d5105578-0450-4452-c0ed-6405caac87f9"
      },
      "execution_count": null,
      "outputs": [
        {
          "metadata": {
            "tags": null
          },
          "name": "stdout",
          "output_type": "stream",
          "text": [
            "34.150.214.58\n",
            "\n",
            "Collecting usage statistics. To deactivate, set browser.gatherUsageStats to false.\n",
            "\u001b[0m\n",
            "\u001b[0m\n",
            "\u001b[34m\u001b[1m  You can now view your Streamlit app in your browser.\u001b[0m\n",
            "\u001b[0m\n",
            "\u001b[34m  Local URL: \u001b[0m\u001b[1mhttp://localhost:8501\u001b[0m\n",
            "\u001b[34m  Network URL: \u001b[0m\u001b[1mhttp://172.28.0.12:8501\u001b[0m\n",
            "\u001b[34m  External URL: \u001b[0m\u001b[1mhttp://34.150.214.58:8501\u001b[0m\n",
            "\u001b[0m\n",
            "your url is: https://four-memes-doubt.loca.lt\n",
            "2024-08-18 14:03:13.702 Uncaught app exception\n",
            "Traceback (most recent call last):\n",
            "  File \"/usr/local/lib/python3.10/dist-packages/speech_recognition/__init__.py\", line 108, in get_pyaudio\n",
            "    import pyaudio\n",
            "ModuleNotFoundError: No module named 'pyaudio'\n",
            "\n",
            "During handling of the above exception, another exception occurred:\n",
            "\n",
            "Traceback (most recent call last):\n",
            "  File \"/usr/local/lib/python3.10/dist-packages/streamlit/runtime/scriptrunner/exec_code.py\", line 85, in exec_func_with_error_handling\n",
            "    result = func()\n",
            "  File \"/usr/local/lib/python3.10/dist-packages/streamlit/runtime/scriptrunner/script_runner.py\", line 576, in code_to_exec\n",
            "    exec(code, module.__dict__)\n",
            "  File \"/content/app.py\", line 72, in <module>\n",
            "    main()\n",
            "  File \"/content/app.py\", line 37, in main\n",
            "    with sr.Microphone() as source:\n",
            "  File \"/usr/local/lib/python3.10/dist-packages/speech_recognition/__init__.py\", line 80, in __init__\n",
            "    self.pyaudio_module = self.get_pyaudio()\n",
            "  File \"/usr/local/lib/python3.10/dist-packages/speech_recognition/__init__.py\", line 110, in get_pyaudio\n",
            "    raise AttributeError(\"Could not find PyAudio; check installation\")\n",
            "AttributeError: Could not find PyAudio; check installation\n",
            "\u001b[34m  Stopping...\u001b[0m\n"
          ]
        }
      ]
    }
  ]
}