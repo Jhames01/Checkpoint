{
  "nbformat": 4,
  "nbformat_minor": 0,
  "metadata": {
    "colab": {
      "provenance": [],
      "authorship_tag": "ABX9TyMENaUoNg5cccWuIG8NiQPc",
      "include_colab_link": true
    },
    "kernelspec": {
      "name": "python3",
      "display_name": "Python 3"
    },
    "language_info": {
      "name": "python"
    }
  },
  "cells": [
    {
      "cell_type": "markdown",
      "metadata": {
        "id": "view-in-github",
        "colab_type": "text"
      },
      "source": [
        "<a href=\"https://colab.research.google.com/github/Jhames01/Checkpoint/blob/master/Python_loop%2C_randomization_and_function.ipynb\" target=\"_parent\"><img src=\"https://colab.research.google.com/assets/colab-badge.svg\" alt=\"Open In Colab\"/></a>"
      ]
    },
    {
      "cell_type": "code",
      "source": [
        "import random\n",
        "\n",
        "def coin_toss():\n",
        "    # Simulate a coin toss\n",
        "    result = random.choice(['Heads', 'Tails'])\n",
        "    return result\n",
        "\n",
        "# Toss the coin\n",
        "outcome = coin_toss()\n",
        "\n",
        "# Display the result\n",
        "print(f\"The coin landed on: {outcome}\")\n"
      ],
      "metadata": {
        "colab": {
          "base_uri": "https://localhost:8080/"
        },
        "id": "jsP6PZk1HahB",
        "outputId": "f05ded3b-766f-4343-dc61-4337bff25d41"
      },
      "execution_count": null,
      "outputs": [
        {
          "output_type": "stream",
          "name": "stdout",
          "text": [
            "The coin landed on: Heads\n"
          ]
        }
      ]
    },
    {
      "cell_type": "code",
      "source": [
        "Fruits = [\"apple\",\"peach\",\"pear\"]\n",
        "for fruit in Fruits:\n",
        "\tprint(fruit)"
      ],
      "metadata": {
        "colab": {
          "base_uri": "https://localhost:8080/"
        },
        "id": "VhkhX1ojIzb8",
        "outputId": "75d8f540-bece-413c-98ec-19f33a3319d4"
      },
      "execution_count": null,
      "outputs": [
        {
          "output_type": "stream",
          "name": "stdout",
          "text": [
            "apple\n",
            "peach\n",
            "pear\n"
          ]
        }
      ]
    },
    {
      "cell_type": "code",
      "source": [
        "def highest_score(scores):\n",
        "    # Initialize the first score as the highest\n",
        "    high_score = scores[0]\n",
        "\n",
        "    # Loop through the scores to find the highest\n",
        "    for score in scores:\n",
        "        if score > high_score:\n",
        "            high_score = score\n",
        "\n",
        "    return high_score\n",
        "\n",
        "# Example list of scores\n",
        "scores = [89, 92, 78, 95, 88, 76, 91, 85]\n",
        "\n",
        "# Find the highest score\n",
        "high_score = highest_score(scores)\n",
        "\n",
        "# Display the highest score\n",
        "print(f\"The highest score is: {high_score}\")\n"
      ],
      "metadata": {
        "colab": {
          "base_uri": "https://localhost:8080/"
        },
        "id": "p9tJ2I4iLf5h",
        "outputId": "15a41b82-8a7e-4308-d591-dd596ea78fb1"
      },
      "execution_count": null,
      "outputs": [
        {
          "output_type": "stream",
          "name": "stdout",
          "text": [
            "The highest score is: 95\n"
          ]
        }
      ]
    },
    {
      "cell_type": "code",
      "source": [
        "for i in range(1, 10):\n",
        "  print(i)"
      ],
      "metadata": {
        "colab": {
          "base_uri": "https://localhost:8080/"
        },
        "id": "PnpqqkvzQOI6",
        "outputId": "e9750d65-2118-458b-e1d8-169b47d3c106"
      },
      "execution_count": null,
      "outputs": [
        {
          "output_type": "stream",
          "name": "stdout",
          "text": [
            "1\n",
            "2\n",
            "3\n",
            "4\n",
            "5\n",
            "6\n",
            "7\n",
            "8\n",
            "9\n"
          ]
        }
      ]
    },
    {
      "cell_type": "code",
      "source": [
        "for i in range(2,21,2):\n",
        " print(i)"
      ],
      "metadata": {
        "colab": {
          "base_uri": "https://localhost:8080/"
        },
        "id": "NVSNNz9zQ9ek",
        "outputId": "e6b7b4ce-c86d-40e8-e5f0-07bc50e1cb89"
      },
      "execution_count": null,
      "outputs": [
        {
          "output_type": "stream",
          "name": "stdout",
          "text": [
            "2\n",
            "4\n",
            "6\n",
            "8\n",
            "10\n",
            "12\n",
            "14\n",
            "16\n",
            "18\n",
            "20\n"
          ]
        }
      ]
    },
    {
      "cell_type": "code",
      "source": [
        "count = 1\n",
        "while count <= 10:\n",
        "\tprint(count)\n",
        "\tcount += 1"
      ],
      "metadata": {
        "colab": {
          "base_uri": "https://localhost:8080/"
        },
        "id": "NGGE8xAXUC2h",
        "outputId": "8834b34e-cc48-4883-a69b-c116e7c913b0"
      },
      "execution_count": null,
      "outputs": [
        {
          "output_type": "stream",
          "name": "stdout",
          "text": [
            "1\n",
            "2\n",
            "3\n",
            "4\n",
            "5\n",
            "6\n",
            "7\n",
            "8\n",
            "9\n",
            "10\n"
          ]
        }
      ]
    },
    {
      "cell_type": "code",
      "source": [
        "while True:\n",
        "    user_input = input(\"Enter a number (or 'q' to quit): \")\n",
        "    if user_input == 'q':\n",
        "        break\n",
        "    else:\n",
        "         number = int(user_input)\n",
        "        print(\"The square of\", number, \"is\", number*number)"
      ],
      "metadata": {
        "colab": {
          "base_uri": "https://localhost:8080/",
          "height": 106
        },
        "id": "fsq7B9G-ZsP-",
        "outputId": "959b3631-a8ee-4f59-9c65-7e5eb5386974"
      },
      "execution_count": null,
      "outputs": [
        {
          "output_type": "error",
          "ename": "IndentationError",
          "evalue": "unindent does not match any outer indentation level (<tokenize>, line 7)",
          "traceback": [
            "\u001b[0;36m  File \u001b[0;32m\"<tokenize>\"\u001b[0;36m, line \u001b[0;32m7\u001b[0m\n\u001b[0;31m    print(\"The square of\", number, \"is\", number*number)\u001b[0m\n\u001b[0m    ^\u001b[0m\n\u001b[0;31mIndentationError\u001b[0m\u001b[0;31m:\u001b[0m unindent does not match any outer indentation level\n"
          ]
        }
      ]
    },
    {
      "cell_type": "code",
      "source": [
        "def get_number_greater_than_100():\n",
        "    while True:\n",
        "        try:\n",
        "            number = float(input(\"Enter a number greater than 100: \"))\n",
        "\n",
        "            if number > 100:\n",
        "                print(f\"Thank you! You entered {number}.\")\n",
        "                break\n",
        "            else:\n",
        "                print(\"The number is not greater than 100. Please try again.\")\n",
        "\n",
        "        except ValueError:\n",
        "            print(\"That's not a valid number. Please enter a valid number.\")\n",
        "\n",
        "get_number_greater_than_100()\n"
      ],
      "metadata": {
        "colab": {
          "base_uri": "https://localhost:8080/"
        },
        "id": "1FYZ__MOemuh",
        "outputId": "295a3f8c-546b-46e3-ebe8-08d91da7d113"
      },
      "execution_count": null,
      "outputs": [
        {
          "output_type": "stream",
          "name": "stdout",
          "text": [
            "Enter a number greater than 100: 300\n",
            "Thank you! You entered 300.0.\n"
          ]
        }
      ]
    }
  ]
}