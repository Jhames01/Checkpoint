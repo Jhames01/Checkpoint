{
  "nbformat": 4,
  "nbformat_minor": 0,
  "metadata": {
    "colab": {
      "provenance": [],
      "authorship_tag": "ABX9TyOd6nKVBOTFXqPf7Vdr5Ufs",
      "include_colab_link": true
    },
    "kernelspec": {
      "name": "python3",
      "display_name": "Python 3"
    },
    "language_info": {
      "name": "python"
    }
  },
  "cells": [
    {
      "cell_type": "markdown",
      "metadata": {
        "id": "view-in-github",
        "colab_type": "text"
      },
      "source": [
        "<a href=\"https://colab.research.google.com/github/Jhames01/Checkpoint/blob/master/Bank_account_(OPP_Checkpoint).ipynb\" target=\"_parent\"><img src=\"https://colab.research.google.com/assets/colab-badge.svg\" alt=\"Open In Colab\"/></a>"
      ]
    },
    {
      "cell_type": "markdown",
      "source": [
        "Create a class called \"Account\" that has the following attributes:\n",
        "\n",
        "account_number (string)\n",
        "\n",
        "account_balance (float)\n",
        "\n",
        "account_holder (string)\n",
        "\n",
        "The class should have the following methods:\n",
        "\n",
        "1. deposit(amount: float) - This method should add the amount passed as an argument to the account balance.\n",
        "2. withdraw(amount: float) - This method should subtract the amount passed as an argument from the account balance, but only if the account balance is greater than the amount being withdrawn.\n",
        "3. check_balance() - This method should return the current account balance.\n",
        "\n",
        "Instructions\n",
        "\n",
        "1. Create a new file called \"bank_account.py\"\n",
        "2. Define the Account class and its attributes as specified above.\n",
        "3. Define the deposit() method. It should take in one argument, the amount to be deposited, and add it to the account balance.\n",
        "4. Define the withdraw() method. It should take in one argument, the amount to be withdrawn, and subtract it from the account balance. The method should only execute the withdrawal if the account balance is greater than or equal to the amount to be withdrawn.\n",
        "5. Define the check_balance() method. It should return the current account balance.\n",
        "6. Create an instance of the Account class, and assign it to a variable called \"my_account\".\n",
        "7. Use the methods of the class to deposit and withdraw money from the account, and check the account balance.\n",
        "8. Test the program by creating multiple instances of the class and performing different transactions on them."
      ],
      "metadata": {
        "id": "38aWQKC0sz_r"
      }
    },
    {
      "cell_type": "code",
      "source": [
        "#Creating a Class called Account\n",
        "\n",
        "class Account:\n",
        "  def __init__(self, account_number, account_balance=0, account_holder=\"Unknown\"):\n",
        "        self.account_number = account_number\n",
        "        self.account_balance = account_balance\n",
        "        self.account_holder = account_holder\n",
        "\n",
        "\n",
        "# Define Deposit, Withdraw and Balance\n",
        "  def deposit(self, amount):\n",
        "    if amount > 0:\n",
        "      self.account_balance += amount\n",
        "      print(f\"Deposited N{amount}. New balance is N{self.account_balance}\")\n",
        "\n",
        "  def withdraw(self, amount):\n",
        "    if amount > 0:\n",
        "      if self.account_balance >= amount:\n",
        "        self.account_balance -= amount\n",
        "        print(f\"Withdrew N{amount}. New balance is N{self.account_balance}\")\n",
        "      else:\n",
        "        print(\"Insufficient balance.\")\n",
        "    else:\n",
        "      print(\"Invalid withdrawal amount.\")\n",
        "\n",
        "  def check_balance(self):\n",
        "    print(f\"Current balance is N{self.account_balance}\")\n",
        "\n",
        "# Create an instance of the Account class, and assign it to a variable called \"my_account\".\n",
        "my_account = Account(4578124865)\n",
        "my_account.deposit(5000)\n",
        "my_account.withdraw(0)\n",
        "my_account.check_balance()\n",
        "\n",
        "my_account.deposit(4000)\n",
        "\n",
        "my_account.check_balance()\n",
        "my_account.deposit(8000)\n",
        "my_account.deposit(6000)\n",
        "my_account.deposit(4500)\n",
        "my_account.deposit(9300)\n",
        "my_account.check_balance()\n",
        "my_account.withdraw(40000)\n",
        "my_account.withdraw(36800)\n",
        "my_account.deposit(1000)\n",
        "\n",
        "\n",
        "\n"
      ],
      "metadata": {
        "colab": {
          "base_uri": "https://localhost:8080/"
        },
        "id": "ISGz5qLDh6gc",
        "outputId": "1e1e95da-c9d7-4b66-e89c-9d1c407de2a1"
      },
      "execution_count": null,
      "outputs": [
        {
          "output_type": "stream",
          "name": "stdout",
          "text": [
            "Deposited N5000. New balance is N5000\n",
            "Invalid withdrawal amount.\n",
            "Current balance is N5000\n",
            "Deposited N4000. New balance is N9000\n",
            "Current balance is N9000\n",
            "Deposited N8000. New balance is N17000\n",
            "Deposited N6000. New balance is N23000\n",
            "Deposited N4500. New balance is N27500\n",
            "Deposited N9300. New balance is N36800\n",
            "Current balance is N36800\n",
            "Insufficient balance.\n",
            "Withdrew N36800. New balance is N0\n",
            "Deposited N1000. New balance is N1000\n"
          ]
        }
      ]
    }
  ]
}